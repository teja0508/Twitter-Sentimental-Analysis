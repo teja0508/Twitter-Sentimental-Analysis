{
 "cells": [
  {
   "cell_type": "code",
   "execution_count": 1,
   "metadata": {
    "colab": {},
    "colab_type": "code",
    "id": "CQa3kvnTMSPy"
   },
   "outputs": [],
   "source": [
    "import tweepy\n",
    "from textblob import TextBlob\n",
    "from wordcloud import WordCloud\n",
    "import pandas as pd\n",
    "import numpy as np\n",
    "import re\n",
    "import matplotlib.pyplot as plt\n",
    "plt.style.use('fivethirtyeight')"
   ]
  },
  {
   "cell_type": "code",
   "execution_count": 2,
   "metadata": {
    "colab": {},
    "colab_type": "code",
    "id": "sXwKD84XTIal"
   },
   "outputs": [],
   "source": [
    "consumerKey #Confidential\n",
    "consumerSecret #Confidential\n",
    "accessToken  #Confidential\n",
    "accessTokenSecret #Confidential"
   ]
  },
  {
   "cell_type": "code",
   "execution_count": 3,
   "metadata": {
    "colab": {},
    "colab_type": "code",
    "id": "jS0UwQE2Mh2F"
   },
   "outputs": [],
   "source": [
    "# Create the authentication object\n",
    "authenticate = tweepy.OAuthHandler(consumerKey, consumerSecret) \n",
    "    \n",
    "# Set the access token and access token secret\n",
    "authenticate.set_access_token(accessToken, accessTokenSecret) \n",
    "    \n",
    "# Creating the API object while passing in auth information\n",
    "api = tweepy.API(authenticate, wait_on_rate_limit = True)"
   ]
  },
  {
   "cell_type": "code",
   "execution_count": 4,
   "metadata": {
    "colab": {
     "base_uri": "https://localhost:8080/",
     "height": 275
    },
    "colab_type": "code",
    "id": "ms5iUU7ShNbm",
    "outputId": "da429536-ba21-4a55-e04d-3c8ce8ef8fde"
   },
   "outputs": [
    {
     "name": "stdout",
     "output_type": "stream",
     "text": [
      "Show the 5 recent tweets:\n",
      "\n",
      "1) बुराड़ी में दिल्ली सरकार का 700 बेड का नया वर्ल्ड क्लास अस्पताल बन रहा है। करोना के इलाज के लिए हम 450 बेड्स अभी शुरू कर रहे हैं। इसका जायज़ा लेने आज मैं और मनीष जी गए थे। https://t.co/4yvnI1fAq0\n",
      "\n",
      "2) Delhi will fight Corona together. I appeal to all NGOs and individuals to join in this effort on a large scale. https://t.co/u7675fYKGH\n",
      "\n",
      "3) अब दिल्ली वसियों को टेस्ट कराने में कोई परेशानी नहीं होगी। आने वाले दिनों में इस से भी बहुत ज़्यादा टेस्टिंग की जाएगी। https://t.co/91fIRPhqXm\n",
      "\n",
      "4) RT @AnkushNarang_: Earlier in a Day received a Whatsapp message from a Lok Nayak (LNJP) hospital Patient’s husband \n",
      "A Pregnant Subject who…\n",
      "\n",
      "5) Inspected Delhi govt's upcoming 10,000 bed Covid Care Centre at the Radha Soami Satsang Beas grounds at Chhatarpur. A small section of the beds will also have oxygen support. \n",
      "\n",
      "#DelhiFightsCorona https://t.co/htSW9uEQSi\n",
      "\n"
     ]
    }
   ],
   "source": [
    "# Extract 100 tweets from the twitter user\n",
    "posts = api.user_timeline(screen_name=\"ArvindKejriwal\", count = 100, lang =\"en\", tweet_mode=\"extended\")\n",
    "\n",
    "#  Print the last 5 tweets\n",
    "print(\"Show the 5 recent tweets:\\n\")\n",
    "i=1\n",
    "for tweet in posts[:5]:\n",
    "    print(str(i) +') '+ tweet.full_text + '\\n')\n",
    "    i= i+1"
   ]
  },
  {
   "cell_type": "code",
   "execution_count": 5,
   "metadata": {
    "colab": {
     "base_uri": "https://localhost:8080/",
     "height": 204
    },
    "colab_type": "code",
    "id": "r1FBTS1chVoe",
    "outputId": "5e6765dc-0415-4a05-b571-cd87e5dcfb23"
   },
   "outputs": [
    {
     "data": {
      "text/html": [
       "<div>\n",
       "<style scoped>\n",
       "    .dataframe tbody tr th:only-of-type {\n",
       "        vertical-align: middle;\n",
       "    }\n",
       "\n",
       "    .dataframe tbody tr th {\n",
       "        vertical-align: top;\n",
       "    }\n",
       "\n",
       "    .dataframe thead th {\n",
       "        text-align: right;\n",
       "    }\n",
       "</style>\n",
       "<table border=\"1\" class=\"dataframe\">\n",
       "  <thead>\n",
       "    <tr style=\"text-align: right;\">\n",
       "      <th></th>\n",
       "      <th>Tweets</th>\n",
       "    </tr>\n",
       "  </thead>\n",
       "  <tbody>\n",
       "    <tr>\n",
       "      <th>0</th>\n",
       "      <td>बुराड़ी में दिल्ली सरकार का 700 बेड का नया वर्...</td>\n",
       "    </tr>\n",
       "    <tr>\n",
       "      <th>1</th>\n",
       "      <td>Delhi will fight Corona together. I appeal to ...</td>\n",
       "    </tr>\n",
       "    <tr>\n",
       "      <th>2</th>\n",
       "      <td>अब दिल्ली वसियों को टेस्ट कराने में कोई परेशान...</td>\n",
       "    </tr>\n",
       "    <tr>\n",
       "      <th>3</th>\n",
       "      <td>RT @AnkushNarang_: Earlier in a Day received a...</td>\n",
       "    </tr>\n",
       "    <tr>\n",
       "      <th>4</th>\n",
       "      <td>Inspected Delhi govt's upcoming 10,000 bed Cov...</td>\n",
       "    </tr>\n",
       "  </tbody>\n",
       "</table>\n",
       "</div>"
      ],
      "text/plain": [
       "                                              Tweets\n",
       "0  बुराड़ी में दिल्ली सरकार का 700 बेड का नया वर्...\n",
       "1  Delhi will fight Corona together. I appeal to ...\n",
       "2  अब दिल्ली वसियों को टेस्ट कराने में कोई परेशान...\n",
       "3  RT @AnkushNarang_: Earlier in a Day received a...\n",
       "4  Inspected Delhi govt's upcoming 10,000 bed Cov..."
      ]
     },
     "execution_count": 5,
     "metadata": {},
     "output_type": "execute_result"
    }
   ],
   "source": [
    "# Create a dataframe with a column called Tweets\n",
    "df = pd.DataFrame([tweet.full_text for tweet in posts], columns=['Tweets'])\n",
    "# Show the first 5 rows of data\n",
    "df.head()"
   ]
  },
  {
   "cell_type": "code",
   "execution_count": 6,
   "metadata": {
    "colab": {
     "base_uri": "https://localhost:8080/",
     "height": 419
    },
    "colab_type": "code",
    "id": "4IjgopLwiUHm",
    "outputId": "08eb9d33-0f59-4f80-aeaf-e157a2b804a1"
   },
   "outputs": [
    {
     "data": {
      "text/html": [
       "<div>\n",
       "<style scoped>\n",
       "    .dataframe tbody tr th:only-of-type {\n",
       "        vertical-align: middle;\n",
       "    }\n",
       "\n",
       "    .dataframe tbody tr th {\n",
       "        vertical-align: top;\n",
       "    }\n",
       "\n",
       "    .dataframe thead th {\n",
       "        text-align: right;\n",
       "    }\n",
       "</style>\n",
       "<table border=\"1\" class=\"dataframe\">\n",
       "  <thead>\n",
       "    <tr style=\"text-align: right;\">\n",
       "      <th></th>\n",
       "      <th>Tweets</th>\n",
       "    </tr>\n",
       "  </thead>\n",
       "  <tbody>\n",
       "    <tr>\n",
       "      <th>0</th>\n",
       "      <td>बुराड़ी में दिल्ली सरकार का 700 बेड का नया वर्...</td>\n",
       "    </tr>\n",
       "    <tr>\n",
       "      <th>1</th>\n",
       "      <td>Delhi will fight Corona together. I appeal to ...</td>\n",
       "    </tr>\n",
       "    <tr>\n",
       "      <th>2</th>\n",
       "      <td>अब दिल्ली वसियों को टेस्ट कराने में कोई परेशान...</td>\n",
       "    </tr>\n",
       "    <tr>\n",
       "      <th>3</th>\n",
       "      <td>_: Earlier in a Day received a Whatsapp messag...</td>\n",
       "    </tr>\n",
       "    <tr>\n",
       "      <th>4</th>\n",
       "      <td>Inspected Delhi govt's upcoming 10,000 bed Cov...</td>\n",
       "    </tr>\n",
       "    <tr>\n",
       "      <th>...</th>\n",
       "      <td>...</td>\n",
       "    </tr>\n",
       "    <tr>\n",
       "      <th>95</th>\n",
       "      <td>: Shri.  Ji, Thank you for your good wishes.</td>\n",
       "    </tr>\n",
       "    <tr>\n",
       "      <th>96</th>\n",
       "      <td>Wish Kerala CM Shri Pinarayi Vijayan ji a happ...</td>\n",
       "    </tr>\n",
       "    <tr>\n",
       "      <th>97</th>\n",
       "      <td>हमारे राज्य सभा सांसद संजय सिंह जी और उनकी धर्...</td>\n",
       "    </tr>\n",
       "    <tr>\n",
       "      <th>98</th>\n",
       "      <td>Heartfelt condolences to Dr Pande's family. He...</td>\n",
       "    </tr>\n",
       "    <tr>\n",
       "      <th>99</th>\n",
       "      <td>Sikkim is an integral part of India. Such erro...</td>\n",
       "    </tr>\n",
       "  </tbody>\n",
       "</table>\n",
       "<p>100 rows × 1 columns</p>\n",
       "</div>"
      ],
      "text/plain": [
       "                                               Tweets\n",
       "0   बुराड़ी में दिल्ली सरकार का 700 बेड का नया वर्...\n",
       "1   Delhi will fight Corona together. I appeal to ...\n",
       "2   अब दिल्ली वसियों को टेस्ट कराने में कोई परेशान...\n",
       "3   _: Earlier in a Day received a Whatsapp messag...\n",
       "4   Inspected Delhi govt's upcoming 10,000 bed Cov...\n",
       "..                                                ...\n",
       "95       : Shri.  Ji, Thank you for your good wishes.\n",
       "96  Wish Kerala CM Shri Pinarayi Vijayan ji a happ...\n",
       "97  हमारे राज्य सभा सांसद संजय सिंह जी और उनकी धर्...\n",
       "98  Heartfelt condolences to Dr Pande's family. He...\n",
       "99  Sikkim is an integral part of India. Such erro...\n",
       "\n",
       "[100 rows x 1 columns]"
      ]
     },
     "execution_count": 6,
     "metadata": {},
     "output_type": "execute_result"
    }
   ],
   "source": [
    "# Create a function to clean the tweets\n",
    "def cleanTxt(text):\n",
    " text = re.sub('@[A-Za-z0–9]+', '', text) #Removing @mentions\n",
    " text = re.sub('#', '', text) # Removing '#' hash tag\n",
    " text = re.sub('RT[\\s]+', '', text) # Removing RT\n",
    " text = re.sub('https?:\\/\\/\\S+', '', text) # Removing hyperlink\n",
    " \n",
    " return text\n",
    "\n",
    "\n",
    "# Clean the tweets\n",
    "df['Tweets'] = df['Tweets'].apply(cleanTxt)\n",
    "\n",
    "# Show the cleaned tweets\n",
    "df"
   ]
  },
  {
   "cell_type": "code",
   "execution_count": 7,
   "metadata": {
    "colab": {
     "base_uri": "https://localhost:8080/",
     "height": 419
    },
    "colab_type": "code",
    "id": "l5qM8O2dkqP2",
    "outputId": "f911ae78-5936-414b-e7b6-a0ab653f74ab"
   },
   "outputs": [
    {
     "data": {
      "text/html": [
       "<div>\n",
       "<style scoped>\n",
       "    .dataframe tbody tr th:only-of-type {\n",
       "        vertical-align: middle;\n",
       "    }\n",
       "\n",
       "    .dataframe tbody tr th {\n",
       "        vertical-align: top;\n",
       "    }\n",
       "\n",
       "    .dataframe thead th {\n",
       "        text-align: right;\n",
       "    }\n",
       "</style>\n",
       "<table border=\"1\" class=\"dataframe\">\n",
       "  <thead>\n",
       "    <tr style=\"text-align: right;\">\n",
       "      <th></th>\n",
       "      <th>Tweets</th>\n",
       "      <th>Subjectivity</th>\n",
       "      <th>Polarity</th>\n",
       "    </tr>\n",
       "  </thead>\n",
       "  <tbody>\n",
       "    <tr>\n",
       "      <th>0</th>\n",
       "      <td>बुराड़ी में दिल्ली सरकार का 700 बेड का नया वर्...</td>\n",
       "      <td>0.000000</td>\n",
       "      <td>0.000000</td>\n",
       "    </tr>\n",
       "    <tr>\n",
       "      <th>1</th>\n",
       "      <td>Delhi will fight Corona together. I appeal to ...</td>\n",
       "      <td>0.428571</td>\n",
       "      <td>0.214286</td>\n",
       "    </tr>\n",
       "    <tr>\n",
       "      <th>2</th>\n",
       "      <td>अब दिल्ली वसियों को टेस्ट कराने में कोई परेशान...</td>\n",
       "      <td>0.000000</td>\n",
       "      <td>0.000000</td>\n",
       "    </tr>\n",
       "    <tr>\n",
       "      <th>3</th>\n",
       "      <td>_: Earlier in a Day received a Whatsapp messag...</td>\n",
       "      <td>0.444444</td>\n",
       "      <td>0.055556</td>\n",
       "    </tr>\n",
       "    <tr>\n",
       "      <th>4</th>\n",
       "      <td>Inspected Delhi govt's upcoming 10,000 bed Cov...</td>\n",
       "      <td>0.400000</td>\n",
       "      <td>-0.250000</td>\n",
       "    </tr>\n",
       "    <tr>\n",
       "      <th>...</th>\n",
       "      <td>...</td>\n",
       "      <td>...</td>\n",
       "      <td>...</td>\n",
       "    </tr>\n",
       "    <tr>\n",
       "      <th>95</th>\n",
       "      <td>: Shri.  Ji, Thank you for your good wishes.</td>\n",
       "      <td>0.600000</td>\n",
       "      <td>0.700000</td>\n",
       "    </tr>\n",
       "    <tr>\n",
       "      <th>96</th>\n",
       "      <td>Wish Kerala CM Shri Pinarayi Vijayan ji a happ...</td>\n",
       "      <td>0.633333</td>\n",
       "      <td>0.416667</td>\n",
       "    </tr>\n",
       "    <tr>\n",
       "      <th>97</th>\n",
       "      <td>हमारे राज्य सभा सांसद संजय सिंह जी और उनकी धर्...</td>\n",
       "      <td>0.000000</td>\n",
       "      <td>0.000000</td>\n",
       "    </tr>\n",
       "    <tr>\n",
       "      <th>98</th>\n",
       "      <td>Heartfelt condolences to Dr Pande's family. He...</td>\n",
       "      <td>0.693750</td>\n",
       "      <td>-0.168750</td>\n",
       "    </tr>\n",
       "    <tr>\n",
       "      <th>99</th>\n",
       "      <td>Sikkim is an integral part of India. Such erro...</td>\n",
       "      <td>0.300000</td>\n",
       "      <td>0.050000</td>\n",
       "    </tr>\n",
       "  </tbody>\n",
       "</table>\n",
       "<p>100 rows × 3 columns</p>\n",
       "</div>"
      ],
      "text/plain": [
       "                                               Tweets  Subjectivity  Polarity\n",
       "0   बुराड़ी में दिल्ली सरकार का 700 बेड का नया वर्...      0.000000  0.000000\n",
       "1   Delhi will fight Corona together. I appeal to ...      0.428571  0.214286\n",
       "2   अब दिल्ली वसियों को टेस्ट कराने में कोई परेशान...      0.000000  0.000000\n",
       "3   _: Earlier in a Day received a Whatsapp messag...      0.444444  0.055556\n",
       "4   Inspected Delhi govt's upcoming 10,000 bed Cov...      0.400000 -0.250000\n",
       "..                                                ...           ...       ...\n",
       "95       : Shri.  Ji, Thank you for your good wishes.      0.600000  0.700000\n",
       "96  Wish Kerala CM Shri Pinarayi Vijayan ji a happ...      0.633333  0.416667\n",
       "97  हमारे राज्य सभा सांसद संजय सिंह जी और उनकी धर्...      0.000000  0.000000\n",
       "98  Heartfelt condolences to Dr Pande's family. He...      0.693750 -0.168750\n",
       "99  Sikkim is an integral part of India. Such erro...      0.300000  0.050000\n",
       "\n",
       "[100 rows x 3 columns]"
      ]
     },
     "execution_count": 7,
     "metadata": {},
     "output_type": "execute_result"
    }
   ],
   "source": [
    "# Create a function to get the subjectivity\n",
    "def getSubjectivity(text):\n",
    "   return TextBlob(text).sentiment.subjectivity\n",
    "\n",
    "# Create a function to get the polarity\n",
    "def getPolarity(text):\n",
    "   return  TextBlob(text).sentiment.polarity\n",
    "\n",
    "\n",
    "# Create two new columns 'Subjectivity' & 'Polarity'\n",
    "df['Subjectivity'] = df['Tweets'].apply(getSubjectivity)\n",
    "df['Polarity'] = df['Tweets'].apply(getPolarity)\n",
    "\n",
    "# Show the new dataframe with columns 'Subjectivity' & 'Polarity'\n",
    "df"
   ]
  },
  {
   "cell_type": "code",
   "execution_count": 8,
   "metadata": {
    "colab": {
     "base_uri": "https://localhost:8080/",
     "height": 256
    },
    "colab_type": "code",
    "id": "jRBsKGDLldj1",
    "outputId": "c3c95d1a-748e-41cf-fbc9-3fde71719b7f"
   },
   "outputs": [
    {
     "data": {
      "image/png": "[encoded data removed]",
      "text/plain": [
       "<Figure size 432x288 with 1 Axes>"
      ]
     },
     "metadata": {},
     "output_type": "display_data"
    }
   ],
   "source": [
    "# word cloud visualization\n",
    "allWords = ' '.join([twts for twts in df['Tweets']])\n",
    "wordCloud = WordCloud(width=500, height=300, random_state=21, max_font_size=110).generate(allWords)\n",
    "\n",
    "\n",
    "plt.imshow(wordCloud, interpolation=\"bilinear\")\n",
    "plt.axis('off')\n",
    "plt.show()"
   ]
  },
  {
   "cell_type": "code",
   "execution_count": 9,
   "metadata": {
    "colab": {
     "base_uri": "https://localhost:8080/",
     "height": 419
    },
    "colab_type": "code",
    "id": "6_O7oUrUlkPX",
    "outputId": "80289240-5eca-447c-f3c2-5d1073cb4867"
   },
   "outputs": [
    {
     "data": {
      "text/html": [
       "<div>\n",
       "<style scoped>\n",
       "    .dataframe tbody tr th:only-of-type {\n",
       "        vertical-align: middle;\n",
       "    }\n",
       "\n",
       "    .dataframe tbody tr th {\n",
       "        vertical-align: top;\n",
       "    }\n",
       "\n",
       "    .dataframe thead th {\n",
       "        text-align: right;\n",
       "    }\n",
       "</style>\n",
       "<table border=\"1\" class=\"dataframe\">\n",
       "  <thead>\n",
       "    <tr style=\"text-align: right;\">\n",
       "      <th></th>\n",
       "      <th>Tweets</th>\n",
       "      <th>Subjectivity</th>\n",
       "      <th>Polarity</th>\n",
       "      <th>Analysis</th>\n",
       "    </tr>\n",
       "  </thead>\n",
       "  <tbody>\n",
       "    <tr>\n",
       "      <th>0</th>\n",
       "      <td>बुराड़ी में दिल्ली सरकार का 700 बेड का नया वर्...</td>\n",
       "      <td>0.000000</td>\n",
       "      <td>0.000000</td>\n",
       "      <td>Neutral</td>\n",
       "    </tr>\n",
       "    <tr>\n",
       "      <th>1</th>\n",
       "      <td>Delhi will fight Corona together. I appeal to ...</td>\n",
       "      <td>0.428571</td>\n",
       "      <td>0.214286</td>\n",
       "      <td>Positive</td>\n",
       "    </tr>\n",
       "    <tr>\n",
       "      <th>2</th>\n",
       "      <td>अब दिल्ली वसियों को टेस्ट कराने में कोई परेशान...</td>\n",
       "      <td>0.000000</td>\n",
       "      <td>0.000000</td>\n",
       "      <td>Neutral</td>\n",
       "    </tr>\n",
       "    <tr>\n",
       "      <th>3</th>\n",
       "      <td>_: Earlier in a Day received a Whatsapp messag...</td>\n",
       "      <td>0.444444</td>\n",
       "      <td>0.055556</td>\n",
       "      <td>Positive</td>\n",
       "    </tr>\n",
       "    <tr>\n",
       "      <th>4</th>\n",
       "      <td>Inspected Delhi govt's upcoming 10,000 bed Cov...</td>\n",
       "      <td>0.400000</td>\n",
       "      <td>-0.250000</td>\n",
       "      <td>Negative</td>\n",
       "    </tr>\n",
       "    <tr>\n",
       "      <th>...</th>\n",
       "      <td>...</td>\n",
       "      <td>...</td>\n",
       "      <td>...</td>\n",
       "      <td>...</td>\n",
       "    </tr>\n",
       "    <tr>\n",
       "      <th>95</th>\n",
       "      <td>: Shri.  Ji, Thank you for your good wishes.</td>\n",
       "      <td>0.600000</td>\n",
       "      <td>0.700000</td>\n",
       "      <td>Positive</td>\n",
       "    </tr>\n",
       "    <tr>\n",
       "      <th>96</th>\n",
       "      <td>Wish Kerala CM Shri Pinarayi Vijayan ji a happ...</td>\n",
       "      <td>0.633333</td>\n",
       "      <td>0.416667</td>\n",
       "      <td>Positive</td>\n",
       "    </tr>\n",
       "    <tr>\n",
       "      <th>97</th>\n",
       "      <td>हमारे राज्य सभा सांसद संजय सिंह जी और उनकी धर्...</td>\n",
       "      <td>0.000000</td>\n",
       "      <td>0.000000</td>\n",
       "      <td>Neutral</td>\n",
       "    </tr>\n",
       "    <tr>\n",
       "      <th>98</th>\n",
       "      <td>Heartfelt condolences to Dr Pande's family. He...</td>\n",
       "      <td>0.693750</td>\n",
       "      <td>-0.168750</td>\n",
       "      <td>Negative</td>\n",
       "    </tr>\n",
       "    <tr>\n",
       "      <th>99</th>\n",
       "      <td>Sikkim is an integral part of India. Such erro...</td>\n",
       "      <td>0.300000</td>\n",
       "      <td>0.050000</td>\n",
       "      <td>Positive</td>\n",
       "    </tr>\n",
       "  </tbody>\n",
       "</table>\n",
       "<p>100 rows × 4 columns</p>\n",
       "</div>"
      ],
      "text/plain": [
       "                                               Tweets  Subjectivity  Polarity  \\\n",
       "0   बुराड़ी में दिल्ली सरकार का 700 बेड का नया वर्...      0.000000  0.000000   \n",
       "1   Delhi will fight Corona together. I appeal to ...      0.428571  0.214286   \n",
       "2   अब दिल्ली वसियों को टेस्ट कराने में कोई परेशान...      0.000000  0.000000   \n",
       "3   _: Earlier in a Day received a Whatsapp messag...      0.444444  0.055556   \n",
       "4   Inspected Delhi govt's upcoming 10,000 bed Cov...      0.400000 -0.250000   \n",
       "..                                                ...           ...       ...   \n",
       "95       : Shri.  Ji, Thank you for your good wishes.      0.600000  0.700000   \n",
       "96  Wish Kerala CM Shri Pinarayi Vijayan ji a happ...      0.633333  0.416667   \n",
       "97  हमारे राज्य सभा सांसद संजय सिंह जी और उनकी धर्...      0.000000  0.000000   \n",
       "98  Heartfelt condolences to Dr Pande's family. He...      0.693750 -0.168750   \n",
       "99  Sikkim is an integral part of India. Such erro...      0.300000  0.050000   \n",
       "\n",
       "    Analysis  \n",
       "0    Neutral  \n",
       "1   Positive  \n",
       "2    Neutral  \n",
       "3   Positive  \n",
       "4   Negative  \n",
       "..       ...  \n",
       "95  Positive  \n",
       "96  Positive  \n",
       "97   Neutral  \n",
       "98  Negative  \n",
       "99  Positive  \n",
       "\n",
       "[100 rows x 4 columns]"
      ]
     },
     "execution_count": 9,
     "metadata": {},
     "output_type": "execute_result"
    }
   ],
   "source": [
    "# Create a function to compute negative (-1), neutral (0) and positive (+1) analysis\n",
    "def getAnalysis(score):\n",
    "  if score < 0:\n",
    "    return 'Negative'\n",
    "  elif score == 0:\n",
    "    return 'Neutral'\n",
    "  else:\n",
    "    return 'Positive'\n",
    "    \n",
    "df['Analysis'] = df['Polarity'].apply(getAnalysis)\n",
    "# Show the dataframe\n",
    "df"
   ]
  },
  {
   "cell_type": "code",
   "execution_count": 10,
   "metadata": {
    "colab": {
     "base_uri": "https://localhost:8080/",
     "height": 374
    },
    "colab_type": "code",
    "id": "w-x6HPyml6h_",
    "outputId": "7b7a8ab2-ba28-4321-fe76-9892b103b9d0"
   },
   "outputs": [
    {
     "data": {
      "image/png": "[encoded data removed]",
      "text/plain": [
       "<Figure size 432x288 with 1 Axes>"
      ]
     },
     "metadata": {},
     "output_type": "display_data"
    }
   ],
   "source": [
    "# Plotting and visualizing the counts\n",
    "plt.title('Sentiment Analysis')\n",
    "plt.xlabel('Sentiment')\n",
    "plt.ylabel('Counts')\n",
    "df['Analysis'].value_counts().plot(kind = 'bar')\n",
    "plt.show()"
   ]
  },
  {
   "cell_type": "code",
   "execution_count": null,
   "metadata": {
    "colab": {},
    "colab_type": "code",
    "id": "gUkLGmihnXmZ"
   },
   "outputs": [],
   "source": []
  },
  {
   "cell_type": "code",
   "execution_count": null,
   "metadata": {},
   "outputs": [],
   "source": []
  }
 ],
 "metadata": {
  "colab": {
   "name": "Tweets Analyzer.ipynb",
   "provenance": []
  },
  "kernelspec": {
   "display_name": "Python 3",
   "language": "python",
   "name": "python3"
  },
  "language_info": {
   "codemirror_mode": {
    "name": "ipython",
    "version": 3
   },
   "file_extension": ".py",
   "mimetype": "text/x-python",
   "name": "python",
   "nbconvert_exporter": "python",
   "pygments_lexer": "ipython3",
   "version": "3.7.6"
  }
 },
 "nbformat": 4,
 "nbformat_minor": 1
}
